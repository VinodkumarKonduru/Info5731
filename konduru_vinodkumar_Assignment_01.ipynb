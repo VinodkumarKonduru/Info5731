{
  "cells": [
    {
      "cell_type": "markdown",
      "metadata": {
        "id": "view-in-github"
      },
      "source": [
        "<a href=\"https://colab.research.google.com/github/unt-iialab/INFO5731_Spring2020/blob/master/Assignments/INFO5731_Assignment_One.ipynb\" target=\"_parent\"><img src=\"https://colab.research.google.com/assets/colab-badge.svg\" alt=\"Open In Colab\"/></a>"
      ]
    },
    {
      "cell_type": "markdown",
      "metadata": {
        "id": "Ryk8D1Q4Wsrp"
      },
      "source": [
        "# **INFO5731 Assignment One**"
      ]
    },
    {
      "cell_type": "markdown",
      "source": [
        "This assignment includes range of programming tasks and data analysis exercises, aiming to enhance your Python skills and proficiency in string manipulation, numerical computations, and data science. Follow the instructions carefully and design well-structured Python programs to address each question.\n",
        "\n",
        "Late Submission will have a penalty of 10% reduction for each day after the deadline."
      ],
      "metadata": {
        "id": "qcP6re2g5A5r"
      }
    },
    {
      "cell_type": "markdown",
      "metadata": {
        "id": "JkzR8cFAyGik"
      },
      "source": [
        "# Question 1 (10 points).\n",
        "\n",
        "The formula that describes the volume V of a hemisphere with radius r is the following:\n",
        "\n",
        "$ V=\\frac{2}{3}\\ast\\ \\pi\\ast\\ r^3 $\n",
        "\n",
        "Write a program to calculate the value of V when r is in the range of even numbers from 1-20. Output the result in the following format:\n",
        "\n",
        "\tr\tV\n",
        "\t2\t…\n",
        "\t4\t…\n",
        "\t6\t…\n",
        "\t.\n",
        "\t.\n",
        "\t.\n",
        "\t20\t…\n"
      ]
    },
    {
      "cell_type": "code",
      "execution_count": null,
      "metadata": {
        "id": "jDyTKYs-yGit",
        "colab": {
          "base_uri": "https://localhost:8080/"
        },
        "outputId": "9d4f7eab-fe03-4609-a6b2-4033578a0e18"
      },
      "outputs": [
        {
          "output_type": "stream",
          "name": "stdout",
          "text": [
            "when the radius of a hemisphere is:2,then it's volume is: 16.76\n",
            "when the radius of a hemisphere is:4,then it's volume is: 134.04\n",
            "when the radius of a hemisphere is:6,then it's volume is: 452.39\n",
            "when the radius of a hemisphere is:8,then it's volume is: 1072.33\n",
            "when the radius of a hemisphere is:10,then it's volume is: 2094.40\n",
            "when the radius of a hemisphere is:12,then it's volume is: 3619.11\n",
            "when the radius of a hemisphere is:14,then it's volume is: 5747.02\n",
            "when the radius of a hemisphere is:16,then it's volume is: 8578.64\n",
            "when the radius of a hemisphere is:18,then it's volume is: 12214.51\n",
            "when the radius of a hemisphere is:20,then it's volume is: 16755.16\n"
          ]
        }
      ],
      "source": [
        "# Your code here\n",
        "\n",
        "import math\n",
        "\n",
        "# using a for loop with range of even numbers from 1 to 20 we are printing the volume for each even number\n",
        "for i in range(2, 21, 2):\n",
        "    v = (2/3) * math.pi * (i**3)\n",
        "    print(f\"when the radius of a hemisphere is:{i},then it's volume is: {v:.2f}\")\n"
      ]
    },
    {
      "cell_type": "markdown",
      "metadata": {
        "id": "90_NR8c5XGWc"
      },
      "source": [
        "# Question 2 (20 points)\n",
        "\n",
        "(a) Write a Python program to generate a sequence of 12 random numbers falling within the range of 50 to 150.\n",
        "\n",
        "(b) Arrange the generated numbers in ascending order. Display the sorted list.\n",
        "\n",
        "(c) Extend the program to arrange the numbers in descending order as well. Present the sorted list accordingly.\n",
        "\n",
        "(d) Compute and output the average of the entire group of generated numbers.\n",
        "\n",
        "(e) Enhance the program to calculate and display the average of the first 6 numbers from both the ascending and descending sorted lists."
      ]
    },
    {
      "cell_type": "code",
      "execution_count": null,
      "metadata": {
        "id": "5QX6bJjGWXY9",
        "colab": {
          "base_uri": "https://localhost:8080/"
        },
        "outputId": "f485d70d-b8da-4ec9-dada-4328d17d8934"
      },
      "outputs": [
        {
          "output_type": "stream",
          "name": "stdout",
          "text": [
            "The random numbers are: [143, 127, 140, 127, 77, 140, 71, 147, 115, 66, 90, 64]\n",
            "Random numbers after arranging in ascending order is : [64, 66, 71, 77, 90, 115, 127, 127, 140, 140, 143, 147]\n",
            "Random numbers after arranging in decending order is : [147, 143, 140, 140, 127, 127, 115, 90, 77, 71, 66, 64]\n",
            "average of 12 numbers is 108.91666666666667\n",
            "average of first 6 ascending randum numbers : 80.5\n",
            "average of first 6 decending randum numbers : 137.33333333333334\n"
          ]
        }
      ],
      "source": [
        "# Write code for each of the sub parts with proper comments.\n",
        "\n",
        "#A  Write a Python program to generate a sequence of 12 random numbers falling within the range of 50 to 150.\n",
        "import random\n",
        "\n",
        "# 12 random between 50 -150\n",
        "R_NUM = [random.randint(50, 150) for I in range(12)]\n",
        "print(\"The random numbers are:\", R_NUM)\n",
        "\n",
        "#B Arrange the generated numbers in ascending order. Display the sorted list.\n",
        "\n",
        "s_num = sorted(R_NUM)\n",
        "print(\"Random numbers after arranging in ascending order is :\", s_num)\n",
        "asc = s_num\n",
        "\n",
        "#C  Extend the program to arrange the numbers in descending order as well. Present the sorted list accordingly.\n",
        "\n",
        "s_num = sorted(R_NUM, reverse=True)\n",
        "print(\"Random numbers after arranging in decending order is :\", s_num)\n",
        "dec=s_num\n",
        "#D  Compute and output the average of the entire group of generated numbers.\n",
        "average =0\n",
        "for j in s_num:\n",
        "  average=average+j\n",
        "\n",
        "average=average/12\n",
        "print(\"average of 12 numbers is\",average)\n",
        "\n",
        "#E Enhance the program to calculate and display the average of the first 6 numbers from both the ascending and descending sorted lists.\n",
        "avg_ass_6=0\n",
        "for k in asc[:6]:\n",
        "  avg_ass_6=avg_ass_6 + k\n",
        "avg_ass_6 =avg_ass_6/6\n",
        "print(\"average of first 6 ascending randum numbers :\",avg_ass_6)\n",
        "\n",
        "avg_dec_6=0\n",
        "for k in dec[:6]:\n",
        "  avg_dec_6=avg_dec_6 + k\n",
        "avg_dec_6 =avg_dec_6/6\n",
        "print(\"average of first 6 decending randum numbers :\",avg_dec_6)\n",
        "\n",
        "\n"
      ]
    },
    {
      "cell_type": "code",
      "source": [],
      "metadata": {
        "id": "3BgtebQa7l-2"
      },
      "execution_count": null,
      "outputs": []
    },
    {
      "cell_type": "markdown",
      "metadata": {
        "id": "1F_PZdH9Sh49"
      },
      "source": [
        "# Question 3 (20 points).\n",
        "\n",
        "Create a Python program that encompasses various string manipulation task:\n",
        "\n",
        "(a) Prompt the user to input two sentences.\n",
        "\n",
        "(b) Transform each sentence into a list, where each element corresponds to a word in the sentence. For example, if the sentences are \"Hello, how are you doing today?\" and \"This is an example sentence for the program!\"\n",
        "\n",
        "The program should output:\n",
        "['Hello', ',', 'how', 'are', 'you', 'doing', 'today', '?', 'This', 'is', 'an', 'example', 'sentence', 'for', 'the', 'program', '!']\n",
        "\n",
        "(c) Compare the two sentences. Print out a list of words that occur in both sentences.\n",
        "\n",
        "(d) Remove any punctuation from the sentence and print the sanitized sentences. It should remove at least the following characters, but it can remove more: period(“.”), comma (“,”), semicolon (“;”), and colon (“:”).\n",
        "\n",
        "(e) Count the number of vowels in each of the sentences. Print out each vowel and the occurrences  in the each of the two sentences separately, such as:\n",
        "\n",
        "Sentence1: a:2, e:2, i:0, etc.\n",
        "Sentence2: a:1, e:2, i:2, etc.\n",
        "\n",
        "Design a well-structured Python program to execute these tasks efficiently."
      ]
    },
    {
      "cell_type": "code",
      "execution_count": 1,
      "metadata": {
        "id": "Y0oOSlsOS0cq",
        "colab": {
          "base_uri": "https://localhost:8080/"
        },
        "outputId": "7a91835c-1042-4c3f-8c91-20e54ad608d6"
      },
      "outputs": [
        {
          "output_type": "stream",
          "name": "stdout",
          "text": [
            "Enter the sentence1: Hello, how are you doing today?\n",
            "Enter the sentence2: Hello, how are you doing today?\n",
            "splitted strings A: $['Hello', 'how', 'are', 'you', 'doing', 'today'], B: $['Hello', 'how', 'are', 'you', 'doing', 'today']\n",
            "common elements are $['today', 'doing', 'you', 'Hello', 'how', 'are']\n",
            "sanitized strings A : $Hello how are you doing today, B: $Hello how are you doing today\n",
            "vowels in strings A :${'e': 2, 'o': 5, 'a': 2, 'u': 1, 'i': 1}, B : ${'e': 2, 'o': 5, 'a': 2, 'u': 1, 'i': 1}\n"
          ]
        }
      ],
      "source": [
        "a = input(\"Enter the sentence1: \")\n",
        "b = input(\"Enter the sentence2: \")\n",
        "temp = \"\"\n",
        "splittedA = []\n",
        "splittedB = []\n",
        "for i in a:\n",
        "  if i in [\".\",\",\",\";\",\":\", \" \",\"?\"]:\n",
        "    if temp != \"\":\n",
        "      splittedA.append(temp)\n",
        "    temp = \"\"\n",
        "  else:\n",
        "    temp += i\n",
        "# splittedA.append(temp)\n",
        "temp = \"\"\n",
        "for i in b:\n",
        "  if i in [\".\",\",\",\";\",\":\", \" \", \"?\"]:\n",
        "    if temp != \"\":\n",
        "      splittedB.append(temp)\n",
        "    temp = \"\"\n",
        "  else:\n",
        "    temp += i\n",
        "# splittedB.append(temp)\n",
        "\n",
        "print(f\"splitted strings A: ${splittedA}, B: ${splittedB}\")\n",
        "\n",
        "common_elements = list(set(splittedA).intersection(splittedB))\n",
        "\n",
        "print(f\"common elements are ${common_elements}\")\n",
        "\n",
        "sanitizedA = ' '.join(splittedA)\n",
        "sanitizedB = ' '.join(splittedB)\n",
        "print(f\"sanitized strings A : ${sanitizedA}, B: ${sanitizedB}\")\n",
        "vowelsA = {}\n",
        "vowelsB = {}\n",
        "vowels = \"aeiouAEIOU\"\n",
        "\n",
        "for i in sanitizedA:\n",
        "  if i in vowels:\n",
        "    if i in vowelsA:\n",
        "      vowelsA[i] +=1\n",
        "    else:\n",
        "      vowelsA[i] = 1\n",
        "for i in sanitizedB:\n",
        "  if i in vowels:\n",
        "    if i in vowelsB:\n",
        "      vowelsB[i] +=1\n",
        "    else:\n",
        "      vowelsB[i] = 1\n",
        "print(f\"vowels in strings A :${vowelsA}, B : ${vowelsB}\")"
      ]
    },
    {
      "cell_type": "code",
      "source": [],
      "metadata": {
        "id": "PDbkmCWcLoQJ"
      },
      "execution_count": null,
      "outputs": []
    },
    {
      "cell_type": "markdown",
      "source": [
        "# Question 4 (20 Points)"
      ],
      "metadata": {
        "id": "OP4-5qxAtInv"
      }
    },
    {
      "cell_type": "markdown",
      "source": [
        "Design and implement a simple command-line calculator program. The program should handle both integers and floating-point numbers.\n",
        "\n",
        "(a) Write program that takes a mathematical expression as input and evaluates it. The program should support addition, subtraction, multiplication, and division.\n",
        "\n",
        "(b) Extend the calculator to handle parentheses in mathematical expressions. Implement the necessary logic to evaluate expressions with nested parentheses.\n",
        "\n",
        "(c) Enhance your calculator to include additional mathematical operations such as exponentiation, square root, and modulus.\n",
        "\n",
        "(d) Implement error handling in the calculator program. Handle cases such as division by zero and invalid input expressions. Provide meaningful error messages.\n",
        "\n",
        "(e) Implement a command to exit the calculator."
      ],
      "metadata": {
        "id": "uzN4_hDptK9U"
      }
    },
    {
      "cell_type": "code",
      "source": [
        "# Your code here\n",
        "\n",
        "import re\n",
        "import math\n",
        "# (d) Implement error handling in the calculator program. Handle cases such as division by zero and invalid input expressions. Provide meaningful error messages.\n",
        "def eval_expr(expr):\n",
        "    try:\n",
        "        return eval(expr)\n",
        "    except ZeroDivisionError:\n",
        "        return \"Deviding a number with 0 not possible\"\n",
        "    except Exception as e:\n",
        "        return f\"Error: {str(e)}\"\n",
        "\n",
        "def cal(expr):\n",
        "    # we are handling paranthesis in this while loop\n",
        "# (b) Extend the calculator to handle parentheses in mathematical expressions. Implement the necessary logic to evaluate expressions with nested parentheses.\n",
        "    while '(' in expr:\n",
        "        expr_in_paran = re.search(r'\\(([^()]*)\\)', expr)\n",
        "        if expr_in_paran:\n",
        "            out = eval_expr(expr_in_paran.group(1))\n",
        "            expr = expr.replace(expr_in_paran.group(0), str(out))\n",
        "        else:\n",
        "            break\n",
        "\n",
        "    return eval_expr(expr)\n",
        "# (c) Enhance your calculator to include additional mathematical operations such as exponentiation, square root, and modulus.\n",
        "\n",
        "def main():\n",
        "    print(\"Welcome to The Calculator\")\n",
        "    print(\"Supported operations: +, -, *, /, ^ ,square root, % and paran\")\n",
        "    print(\"Type 'q' to quit.\")\n",
        "# (a) Write program that takes a mathematical expression as input and evaluates it. The program should support addition, subtraction, multiplication, and division.\n",
        "    while True:\n",
        "        expr = input(\"Enter expression for evaluation: \")\n",
        "# (e) Implement a command to exit the calculator.\n",
        "        if expr.lower() == 'q':\n",
        "            print(\"Exiting calculator.\")\n",
        "            break\n",
        "\n",
        "        out = cal(expr)\n",
        "        print(\"output:\", out)\n",
        "\n",
        "if __name__ == \"__main__\":\n",
        "    main()\n"
      ],
      "metadata": {
        "id": "8nQnVxjJuYtu",
        "colab": {
          "base_uri": "https://localhost:8080/"
        },
        "outputId": "35ec8b77-246a-4d20-8fa2-597b4782d7f0"
      },
      "execution_count": null,
      "outputs": [
        {
          "output_type": "stream",
          "name": "stdout",
          "text": [
            "Welcome to The Calculator\n",
            "Supported operations: +, -, *, /, ^ ,square root, % and paran\n",
            "Type 'q' to quit.\n",
            "Enter expression for evaluation: (10-4)\n",
            "output: 6\n",
            "Enter expression for evaluation: q\n",
            "Exiting calculator.\n"
          ]
        }
      ]
    },
    {
      "cell_type": "markdown",
      "metadata": {
        "id": "z3tBE7E-Xn5X"
      },
      "source": [
        "# Question 5 (30 points).\n",
        "\n",
        "---\n",
        "\n",
        "\n",
        "\n",
        "In the field of Data Science, data is often formatted as a comma-delimited (CSV) file, where each line in a file corresponds to a field's value. Refer to Chapter 9 (p. 106) for more information on comma-delimited files.\n",
        "\n",
        "To answer this question, you will need to download the file [Assignment1_denton_housing.csv](https://raw.githubusercontent.com/unt-iialab/info5731-spring2022/main/assignments/Assignment1_denton_housing.csv) included with this assignment. The file contains statistics about housing in the city of Denton from 2008 to 2014. Write a program to implement the following questions.\n",
        "\n",
        "(a) (5 pts) Calculate the difference in the number of Occupied Housing Units from year to year and print it. The difference must be calculated for the consecutive years such as 2008-2009, 2009-2010 etc. Finally, print the values in the ascending order.\n",
        "\n",
        "(b) (5 pts) For all the years, calculate the percentage of housing units which are vacant an occupied. Print the results in the following format:\n",
        "\n",
        "Year Vacant Housing Units Occupied Housing Units\n",
        "\n",
        "    2008  30%   70%                          \n",
        "\t2009 ----- -----\n",
        "\t2010 ----- -----\n",
        "    2011 ----- -----\n",
        "\t2012 ----- -----\n",
        "    2013 ----- -----\n",
        "\t2014 ----- -----\n",
        "  \n",
        "  \n",
        "\n",
        "(c) (10 pts) Calculate and print the valued and years in which the highest number of housing units were vacant and occupied. Print the results in the following format:  \n",
        "\n",
        "                              Year\tValue\n",
        "\tVacant Housing Units\t  -----   -----\n",
        "\tOccupied Housing Units\t-----   -----\n",
        "\n",
        "(d) (10 pts) Calculate the harmonic mean of the total housing units and print it out. You can find the information about harmonic mean here: https://ncalculators.com/statistics/harmonic-mean-calculator.htm"
      ]
    },
    {
      "cell_type": "code",
      "execution_count": 32,
      "metadata": {
        "id": "lqGYuHBhcsRH",
        "colab": {
          "base_uri": "https://localhost:8080/"
        },
        "outputId": "53d06483-b3c6-4fc7-df2a-d2118fe382f6"
      },
      "outputs": [
        {
          "output_type": "stream",
          "name": "stdout",
          "text": [
            "2009-2010: -5091\n",
            "2013-2014: -2622\n",
            "2012-2013: -1565\n",
            "2011-2012: -1404\n",
            "2010-2011: 303\n",
            "2008-2009: 795\n",
            "Series([], Name: value, dtype: int64)\n",
            "    year             title_field  value  Occupied Housing Units Diff  \\\n",
            "5   2013  Occupied Housing Units  43673                      -2622.0   \n",
            "8   2012  Occupied Housing Units  42108                      -1565.0   \n",
            "11  2011  Occupied Housing Units  40704                      -1404.0   \n",
            "14  2010  Occupied Housing Units  41007                        303.0   \n",
            "17  2009  Occupied Housing Units  35916                      -5091.0   \n",
            "\n",
            "    Vacant Housing Units (%)  Occupied Housing Units (%)  \n",
            "5                        NaN                         NaN  \n",
            "8                        NaN                         NaN  \n",
            "11                       NaN                         NaN  \n",
            "14                       NaN                         NaN  \n",
            "17                       NaN                         NaN  \n",
            "\n",
            "(b) Percentage of housing units which are vacant and occupied for each year:\n",
            "Empty DataFrame\n",
            "Columns: [year, title_field, value]\n",
            "Index: []\n"
          ]
        }
      ],
      "source": [
        " # Your code here\n",
        "#a\n",
        "import pandas as pd\n",
        "\n",
        "datadf = pd.read_csv(\"/Assignment1_denton_housing.csv\")\n",
        "datadf.head(10)\n",
        "datadf['Occupied Housing Units Diff'] = datadf.loc[datadf['title_field'] == 'Occupied Housing Units', 'value'].diff()\n",
        "\n",
        "datadf.dropna(subset=['Occupied Housing Units Diff'], inplace=True)\n",
        "datadf_sorted = datadf.sort_values(by='Occupied Housing Units Diff')\n",
        "\n",
        "# print(datadf_sorted.head(10))\n",
        "for index, row in datadf_sorted.iterrows():\n",
        "    if row['title_field'] == 'Occupied Housing Units':\n",
        "        year1 = row['year']\n",
        "        year2 = year1 + 1\n",
        "        diff_value = int(row['Occupied Housing Units Diff'])\n",
        "        print(f\"{year1}-{year2}: {(diff_value)}\")\n",
        "\n",
        "\n"
      ]
    },
    {
      "cell_type": "code",
      "source": [
        "#b\n",
        "df = pd.read_csv(\"/Assignment1_denton_housing.csv\")\n",
        "unpivoted_df = df.pivot(index='year', columns='title_field', values='value').reset_index()\n",
        "unpivoted_df['Vacant Housing Units (%)'] = (unpivoted_df['Vacant Housing Units'] / unpivoted_df['Total Housing Units']) * 100\n",
        "unpivoted_df['Occupied Housing Units (%)'] = (unpivoted_df['Occupied Housing Units'] / unpivoted_df['Total Housing Units']) * 100\n",
        "\n",
        "for index, row in unpivoted_df.iterrows():\n",
        "    print(f\"{int(row['year'])} {row['Vacant Housing Units (%)']:.2f}% {row['Occupied Housing Units (%)']:.2f}%\")"
      ],
      "metadata": {
        "colab": {
          "base_uri": "https://localhost:8080/"
        },
        "id": "OAf7OkFl09kt",
        "outputId": "90bb7315-6cda-460d-f337-0dd10c100295"
      },
      "execution_count": 42,
      "outputs": [
        {
          "output_type": "stream",
          "name": "stdout",
          "text": [
            "2008 10.88% 89.12%\n",
            "2009 9.07% 90.93%\n",
            "2010 8.14% 91.86%\n",
            "2011 9.38% 90.62%\n",
            "2012 6.68% 93.32%\n",
            "2013 8.80% 91.20%\n",
            "2014 5.73% 94.27%\n"
          ]
        }
      ]
    },
    {
      "cell_type": "code",
      "source": [
        "#c\n",
        "max_vacant_year = unpivoted_df.loc[unpivoted_df['Vacant Housing Units'].idxmax(), 'year']\n",
        "max_vacant_value = unpivoted_df['Vacant Housing Units'].max()\n",
        "max_occupied_year = unpivoted_df.loc[unpivoted_df['Occupied Housing Units'].idxmax(), 'year']\n",
        "max_occupied_value = unpivoted_df['Occupied Housing Units'].max()\n",
        "\n",
        "print(\"                          Year    Value\")\n",
        "print(f\"Vacant Housing Units      {max_vacant_year}      {max_vacant_value}\")\n",
        "print(f\"Occupied Housing Units    {max_occupied_year}      {max_occupied_value}\")\n"
      ],
      "metadata": {
        "colab": {
          "base_uri": "https://localhost:8080/"
        },
        "id": "sE1eo_h53mPh",
        "outputId": "447efa88-60f8-4311-8e6c-a8a51596674f"
      },
      "execution_count": 43,
      "outputs": [
        {
          "output_type": "stream",
          "name": "stdout",
          "text": [
            "                          Year    Value\n",
            "Vacant Housing Units      2008      4483\n",
            "Occupied Housing Units    2014      46295\n"
          ]
        }
      ]
    },
    {
      "cell_type": "code",
      "source": [
        "#d\n",
        "import pandas as pd\n",
        "from scipy.stats import hmean\n",
        "\n",
        "df = pd.read_csv(\"/Assignment1_denton_housing.csv\")\n",
        "total_housing_units = df[df['title_field'] == 'Total Housing Units']['value']\n",
        "harmonic_mean = hmean(total_housing_units)\n",
        "\n",
        "print(\"Harmonic Mean of Total Housing Units:\", harmonic_mean)"
      ],
      "metadata": {
        "colab": {
          "base_uri": "https://localhost:8080/"
        },
        "id": "fgKjT7Rc4D55",
        "outputId": "58f710d3-475b-4fd3-daaa-5ea035d81009"
      },
      "execution_count": 44,
      "outputs": [
        {
          "output_type": "stream",
          "name": "stdout",
          "text": [
            "Harmonic Mean of Total Housing Units: 44398.28543969185\n"
          ]
        }
      ]
    },
    {
      "cell_type": "markdown",
      "source": [
        "# Mandatory Question\n",
        "\n",
        "Provide your thoughts on the assignment. What did you find challenging, and what aspects did you enjoy? Your opinion on the provided time to complete the assignment. Share any suggestions for improvement. Your feedback will be valuable for enhancing the learning experience."
      ],
      "metadata": {
        "id": "q8BFCvWp32cf"
      }
    },
    {
      "cell_type": "code",
      "source": [
        "# Write your response below\n",
        "# This assignment helped me in recollecting my python basics which i learnt couple of years ago.i spent like 2-3 hrs for completing this assignment."
      ],
      "metadata": {
        "id": "_e557s2w4BpK"
      },
      "execution_count": null,
      "outputs": []
    }
  ],
  "metadata": {
    "colab": {
      "provenance": []
    },
    "kernelspec": {
      "display_name": "Python 3 (ipykernel)",
      "language": "python",
      "name": "python3"
    },
    "language_info": {
      "codemirror_mode": {
        "name": "ipython",
        "version": 3
      },
      "file_extension": ".py",
      "mimetype": "text/x-python",
      "name": "python",
      "nbconvert_exporter": "python",
      "pygments_lexer": "ipython3",
      "version": "3.9.12"
    }
  },
  "nbformat": 4,
  "nbformat_minor": 0
}