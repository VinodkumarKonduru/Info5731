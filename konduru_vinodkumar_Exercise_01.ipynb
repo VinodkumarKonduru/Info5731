{
  "cells": [
    {
      "cell_type": "markdown",
      "metadata": {
        "id": "view-in-github"
      },
      "source": [
        "<a href=\"https://colab.research.google.com/github/unt-iialab/INFO5731_Spring2020/blob/master/In_class_exercise/In_class_exercise_01.ipynb\" target=\"_parent\"><img src=\"https://colab.research.google.com/assets/colab-badge.svg\" alt=\"Open In Colab\"/></a>"
      ]
    },
    {
      "cell_type": "markdown",
      "metadata": {
        "id": "DymRJbxDBCnf"
      },
      "source": [
        "# **This first In-class-exercise cover a variety of fundamental concepts in Python and are designed to help individuals improve their coding skills and problem-solving abilities.**\n",
        "\n",
        "The submission is due on 01/31/2024 11:59 PM. This submission is worth 40 points in total.\n"
      ]
    },
    {
      "cell_type": "markdown",
      "source": [
        "(1) Write a Python program that  prompts the user to input the length and width of a rectangle, and then calculates and displays the area of the rectangle."
      ],
      "metadata": {
        "id": "FBKvD6O_TY6e"
      }
    },
    {
      "cell_type": "code",
      "source": [
        "# write your answer here\n",
        "rectlen = int(input(\"enter the len of rectangle:\"))\n",
        "rectwidth =  int(input(\"enter the width of rectangle:\"))\n",
        "rectarea = rectlen * rectwidth\n",
        "print(rectarea)"
      ],
      "metadata": {
        "id": "cikVKDXdTbzE",
        "colab": {
          "base_uri": "https://localhost:8080/"
        },
        "outputId": "440febbf-dd42-4a6d-8048-ff03784f5919"
      },
      "execution_count": null,
      "outputs": [
        {
          "output_type": "stream",
          "name": "stdout",
          "text": [
            "enter the len of rectangle:10\n",
            "enter the width of rectangle:5\n",
            "50\n"
          ]
        }
      ]
    },
    {
      "cell_type": "markdown",
      "source": [
        "(2) Create a Python program that interactively takes two numerical inputs from the user and swaps their values without utilizing an extra variable."
      ],
      "metadata": {
        "id": "E9RqrlwdTfvl"
      }
    },
    {
      "cell_type": "code",
      "source": [
        "# write your answer here\n",
        "a=int(input(\"enter first value\"))\n",
        "b=int(input(\"enter second value\"))\n",
        "a,b=b,a\n",
        "print(a,b)"
      ],
      "metadata": {
        "id": "4XvRknixTh1g",
        "colab": {
          "base_uri": "https://localhost:8080/"
        },
        "outputId": "8556e63b-faa5-4ff4-d7f6-202546aeae5a"
      },
      "execution_count": null,
      "outputs": [
        {
          "output_type": "stream",
          "name": "stdout",
          "text": [
            "enter first value10\n",
            "enter second value5\n",
            "5 10\n"
          ]
        }
      ]
    },
    {
      "cell_type": "markdown",
      "metadata": {
        "id": "03jb4GZsBkBS"
      },
      "source": [
        "(3) Write a Python script to determine and print the length of a user-input string."
      ]
    },
    {
      "cell_type": "code",
      "execution_count": null,
      "metadata": {
        "id": "YaGLbSHHB8Ej",
        "colab": {
          "base_uri": "https://localhost:8080/"
        },
        "outputId": "8e3bae4f-ef45-48e9-df1c-3cd7a854dc0e"
      },
      "outputs": [
        {
          "output_type": "stream",
          "name": "stdout",
          "text": [
            "enter a strinig:vinod\n",
            "5\n"
          ]
        }
      ],
      "source": [
        "# write your answer here\n",
        "a=input(\"enter a strinig:\")\n",
        "b=0\n",
        "#looping through a string and counting the length\n",
        "for i in a:\n",
        "  b=b+1\n",
        "print(b)"
      ]
    },
    {
      "cell_type": "markdown",
      "metadata": {
        "id": "jJDe71iLB616"
      },
      "source": [
        "(4) Construct a Python program that counts and displays the occurrences of each character in a given string.\n",
        "\n",
        "Sample String: 'openai.ai',\n",
        "\n",
        "Expected Result: {'a': 2, 'i': 2, '.': 1, 'o': 1, 'p': 1, 'e': 1, 'n': 1}"
      ]
    },
    {
      "cell_type": "code",
      "execution_count": null,
      "metadata": {
        "id": "MtKskTzbCLaU",
        "colab": {
          "base_uri": "https://localhost:8080/"
        },
        "outputId": "a24edc90-b215-401c-8088-854926e816e6"
      },
      "outputs": [
        {
          "output_type": "stream",
          "name": "stdout",
          "text": [
            "{'o': 1, 'p': 1, 'e': 1, 'n': 1, 'a': 2, 'i': 2, '.': 1}\n"
          ]
        }
      ],
      "source": [
        "# write your answer here\n",
        "\n",
        "str = 'openai.ai'\n",
        "out = {}\n",
        "#looping through string and if the char is in the dict we increment the count of it in dict\n",
        "for i in str:\n",
        "    out[i] = out.get(i, 0) + 1\n",
        "\n",
        "print(out)"
      ]
    },
    {
      "cell_type": "markdown",
      "metadata": {
        "id": "55W9AMdXCSpV"
      },
      "source": [
        "(5) Design a Python code to calculate the sum of all elements in a user-provided list."
      ]
    },
    {
      "cell_type": "code",
      "execution_count": null,
      "metadata": {
        "id": "I57NXsauCec2",
        "colab": {
          "base_uri": "https://localhost:8080/"
        },
        "outputId": "a1ea02f6-ab76-40a1-bd8e-4270dc26de90"
      },
      "outputs": [
        {
          "output_type": "stream",
          "name": "stdout",
          "text": [
            "ENTER A LIST SEPARETED BY ,:1,2,3,4,5\n",
            "<class 'list'>\n",
            "15\n"
          ]
        }
      ],
      "source": [
        "# write your answer here\n",
        "\n",
        "\n",
        "ui = input(\"ENTER A LIST SEPARETED BY ,:\")\n",
        "#splitting the string of numbers at , and making the list of number from it and sum it uyp using for loop\n",
        "ui=ui.split(\",\")\n",
        "b=0\n",
        "print(type(ui))\n",
        "for i in ui:\n",
        "\n",
        "  b = b + int(i)\n",
        "\n",
        "print(b)\n",
        "\n"
      ]
    },
    {
      "cell_type": "markdown",
      "metadata": {
        "id": "4ulBZ6yhCi9F"
      },
      "source": [
        "(6) Write a Python program that modifies a given string by replacing all occurrences of its first character with '$', excluding the first character itself.\n",
        "\n",
        "\n",
        "Sample String : 'restart‘,\n",
        "\n",
        "Expected Result : 'resta\\$t'"
      ]
    },
    {
      "cell_type": "code",
      "execution_count": null,
      "metadata": {
        "id": "Fj0XhwbBCw2o",
        "colab": {
          "base_uri": "https://localhost:8080/"
        },
        "outputId": "ac48175e-0dd8-4dc0-cd4c-8f2165419692"
      },
      "outputs": [
        {
          "output_type": "stream",
          "name": "stdout",
          "text": [
            "resta$t\n"
          ]
        }
      ],
      "source": [
        "# write your answer here\n",
        "\n",
        "\n",
        "#looping from index 1 to the end of string and see if any of the character is equal to first char and replace it with $\n",
        "a= 'restart'\n",
        "b=a[0]\n",
        "c=0\n",
        "for i in a:\n",
        "  c=c+1\n",
        "\n",
        "for i in range(1,c):\n",
        "  if a[i]==a[0]:\n",
        "    b=b+'$'\n",
        "  else:\n",
        "    b=b+a[i]\n",
        "\n",
        "\n",
        "print(b)\n",
        "\n"
      ]
    },
    {
      "cell_type": "markdown",
      "source": [
        "(7) Write a Python program using a while loop to compute the factorial of a user-supplied number."
      ],
      "metadata": {
        "id": "qVXA3q7ET5JI"
      }
    },
    {
      "cell_type": "code",
      "source": [
        "# write your answer here\n",
        "\n",
        "input_val = int(input(\"enter +ve integer to calculate the factorial: \"))\n",
        "b=input_val\n",
        "if input_val < 0:\n",
        "    print(\"Factorial aren't defined for a -ve number\")\n",
        "else:\n",
        "    fac = 1\n",
        "\n",
        "    while input_val > 1:\n",
        "        fac *= input_val\n",
        "        input_val -= 1\n",
        "\n",
        "    print(f\"The factorial of {b} is: {fac}\")"
      ],
      "metadata": {
        "id": "Lbt7R6UkT7BA",
        "colab": {
          "base_uri": "https://localhost:8080/"
        },
        "outputId": "4feefcbd-c6db-46ce-e905-49659825d203"
      },
      "execution_count": null,
      "outputs": [
        {
          "output_type": "stream",
          "name": "stdout",
          "text": [
            "enter +ve integer to calculate the factorial: 5\n",
            "The factorial of 5 is: 120\n"
          ]
        }
      ]
    },
    {
      "cell_type": "markdown",
      "source": [
        "(8) Create a program that accepts a list of numbers as input and outputs a new list containing only the even numbers."
      ],
      "metadata": {
        "id": "6YfbzXMNT--R"
      }
    },
    {
      "cell_type": "code",
      "source": [
        "# write your answer here\n",
        "\n",
        "input_val = input(\"input number's separated by ,: \")\n",
        "\n",
        "given_list = [int(num) for num in input_val.split(',')]\n",
        "\n",
        "even_numbers = [num for num in given_list if num % 2 == 0]\n",
        "\n",
        "print(\"even numbers:\", even_numbers)"
      ],
      "metadata": {
        "id": "54q7wMQPUAKu",
        "colab": {
          "base_uri": "https://localhost:8080/"
        },
        "outputId": "44f0e2fc-6c6a-4930-8eb5-72ec38016262"
      },
      "execution_count": null,
      "outputs": [
        {
          "output_type": "stream",
          "name": "stdout",
          "text": [
            "Enter a list of number separated by ,: 1,2,3,4\n",
            "even numbers: [2, 4]\n"
          ]
        }
      ]
    },
    {
      "cell_type": "markdown",
      "metadata": {
        "id": "_bIP7s1MCzue"
      },
      "source": [
        "\n",
        "(9) Design a Python function to check if a number is prime.\n"
      ]
    },
    {
      "cell_type": "code",
      "execution_count": null,
      "metadata": {
        "id": "w79QilHXD3Mg",
        "colab": {
          "base_uri": "https://localhost:8080/"
        },
        "outputId": "e97b39fe-c640-4508-dd7a-59cb4f571be8"
      },
      "outputs": [
        {
          "output_type": "stream",
          "name": "stdout",
          "text": [
            "Enter a number : 13\n",
            "13 is a prime number.\n"
          ]
        }
      ],
      "source": [
        "# write your answer here\n",
        "\n",
        "#the basic logic is we check if there is any number that divides the given number from 2 to sqrt of that number if not we say its a prime\n",
        "def is_prime(n):\n",
        "    if n < 2:\n",
        "        return False\n",
        "    c=int(n**0.5) + 1\n",
        "    for i in range(2, c):\n",
        "        if n % i == 0:\n",
        "            return False\n",
        "\n",
        "    return True\n",
        "\n",
        "input_val = int(input(\"Enter a number : \"))\n",
        "result = is_prime(input_val)\n",
        "\n",
        "if result:\n",
        "    print(f\"{input_val} is a prime number.\")\n",
        "else:\n",
        "    print(f\"{input_val} is not a prime number.\")"
      ]
    },
    {
      "cell_type": "markdown",
      "metadata": {
        "id": "xCa2bK9aD4Q3"
      },
      "source": [
        "(10) Write a Python program to concatenate following dictionaries to create a new one.\n",
        "\n",
        "Sample Dictionary : dic1={1:10, 2:20}, dic2={3:30, 4:40}, dic3={5:50,6:60},\n",
        "\n",
        "Expected Result : {1: 10, 2: 20, 3: 30, 4: 40, 5: 50, 6: 60}\n"
      ]
    },
    {
      "cell_type": "code",
      "execution_count": null,
      "metadata": {
        "id": "_z4aLqAbEET1",
        "colab": {
          "base_uri": "https://localhost:8080/"
        },
        "outputId": "9d5eb29b-fde9-41ef-c1db-5d3333486057"
      },
      "outputs": [
        {
          "output_type": "stream",
          "name": "stdout",
          "text": [
            "concatinated dictionaries {1: 10, 2: 20, 3: 30, 4: 40, 5: 50, 6: 60}\n"
          ]
        }
      ],
      "source": [
        "# write your answer here\n",
        "\n",
        "\n",
        "#for this we unpack the dictionary and add it to the new dict\n",
        "a={1:10, 2:20}\n",
        "b={3:30, 4:40}\n",
        "c={5:50,6:60}\n",
        "d={**a,**b,**c}\n",
        "print(\"concatinated dictionaries\",d)"
      ]
    },
    {
      "cell_type": "markdown",
      "source": [
        "(11) Design a Python function that takes a tuple of integers as input and returns the largest and smallest elements."
      ],
      "metadata": {
        "id": "bkyZ2xSZUOst"
      }
    },
    {
      "cell_type": "code",
      "source": [
        "# write your answer here\n",
        "\n",
        "input_val = input(\"input number of integers separated by ,: \")\n",
        "input_tpl = tuple(map(int, input_val.split(',')))\n",
        "sml = lrg = input_tpl[0]\n",
        "for num in input_tpl:\n",
        "    if num < sml:\n",
        "        sml = num\n",
        "    elif num > lrg:\n",
        "        lrg = num\n",
        "print(\"Small number:\", sml)\n",
        "print(\"Large number:\", lrg)"
      ],
      "metadata": {
        "id": "3FdLRBKOUQEd",
        "colab": {
          "base_uri": "https://localhost:8080/"
        },
        "outputId": "3fc88b76-c00d-4db3-da85-f3b1d4db033c"
      },
      "execution_count": null,
      "outputs": [
        {
          "output_type": "stream",
          "name": "stdout",
          "text": [
            "input number of integers separated by ,: 1,2,3,4\n",
            "Small number: 1\n",
            "Large number: 4\n"
          ]
        }
      ]
    },
    {
      "cell_type": "markdown",
      "source": [
        "(12) Write a Python program that counts the frequency of each character in a given string and stores it in a dictionary."
      ],
      "metadata": {
        "id": "O0TVi3gKUTpp"
      }
    },
    {
      "cell_type": "code",
      "source": [
        "# write your answer here\n",
        "\n",
        "input_str = input(\"Enter a string: \")\n",
        "\n",
        "char_freq = {}\n",
        "\n",
        "for a in input_str:\n",
        "    char_freq[a] = char_freq.get(a, 0) + 1\n",
        "\n",
        "print(\"dictionary:\", char_freq)"
      ],
      "metadata": {
        "id": "lAtfSfZXUU-h",
        "colab": {
          "base_uri": "https://localhost:8080/"
        },
        "outputId": "4622d87b-11db-4a4d-f4b0-c36cbf3757db"
      },
      "execution_count": null,
      "outputs": [
        {
          "output_type": "stream",
          "name": "stdout",
          "text": [
            "Enter a string: vinod\n",
            "dictionary: {'v': 1, 'i': 1, 'n': 1, 'o': 1, 'd': 1}\n"
          ]
        }
      ]
    },
    {
      "cell_type": "markdown",
      "metadata": {
        "id": "0v48Vqa7FrQh"
      },
      "source": [
        "(13) Implement a Python script to identify duplicate elements in a provided array of integers. Return -1 if there are no duplicates."
      ]
    },
    {
      "cell_type": "code",
      "execution_count": null,
      "metadata": {
        "id": "7WEmgq-DF2P1",
        "colab": {
          "base_uri": "https://localhost:8080/"
        },
        "outputId": "f583327a-8131-4db8-ee5f-cae432626b70"
      },
      "outputs": [
        {
          "output_type": "stream",
          "name": "stdout",
          "text": [
            "Enter numbers separated by ,: 1,1,2,3\n",
            "Duplicate elements found.\n"
          ]
        }
      ],
      "source": [
        "# write your answer here\n",
        "arr =input(\"Enter numbers separated by ,: \")\n",
        "arr=arr.split(',')\n",
        "for z in range(len(arr)):\n",
        "  arr[z]=int(arr[z])\n",
        "\n",
        "a=0\n",
        "dup = False\n",
        "for y in range (len(arr)):\n",
        "  a=a+1\n",
        "\n",
        "for i in range(a):\n",
        "    for j in range(i + 1, a):\n",
        "        if arr[i] == arr[j]:\n",
        "            dup = True\n",
        "            break\n",
        "\n",
        "if dup:\n",
        "    print(\"Duplicate elements found.\")\n",
        "else:\n",
        "    print(\"-1\")"
      ]
    },
    {
      "cell_type": "markdown",
      "metadata": {
        "id": "vD5PYLMuGga_"
      },
      "source": [
        "(14) Write a Python script to find the common elements between two lists."
      ]
    },
    {
      "cell_type": "code",
      "execution_count": null,
      "metadata": {
        "id": "t0D5kdJUGjjw",
        "colab": {
          "base_uri": "https://localhost:8080/"
        },
        "outputId": "415e8e73-f5d2-408b-ad72-c1584bf1d0ed"
      },
      "outputs": [
        {
          "output_type": "stream",
          "name": "stdout",
          "text": [
            "Enter numbers separated by ,: 1,2\n",
            "Enter numbers separated by ,: 1,1,1,1,1,1\n",
            "Common element's are : {1}\n"
          ]
        }
      ],
      "source": [
        "# write your answer here\n",
        "\n",
        "#we use 2 loops 1 through list1 and one through list2 and we search for every element in list1 if present in list2 and make a list if present\n",
        "arr1 =input(\"Enter numbers separated by ,: \")\n",
        "arr1=arr1.split(',')\n",
        "for z in range(len(arr1)):\n",
        "  arr1[z]=int(arr1[z])\n",
        "\n",
        "\n",
        "arr2 =input(\"Enter numbers separated by ,: \")\n",
        "arr2=arr2.split(',')\n",
        "for z in range(len(arr2)):\n",
        "  arr2[z]=int(arr2[z])\n",
        "ce = []\n",
        "\n",
        "for e1 in arr1:\n",
        "    for e2 in arr2:\n",
        "        if e1 == e2:\n",
        "            ce.append(e1)\n",
        "\n",
        "print(\"Common element's are :\", set(ce))\n",
        "\n",
        "\n",
        "\n",
        "\n",
        "\n"
      ]
    },
    {
      "cell_type": "markdown",
      "metadata": {
        "id": "uHkd-y5VhVWC"
      },
      "source": [
        "(15) Write a Python program to randomly divide the students in this class into six groups for term projects, each group should have at least 4 students but no more than 6 students (including 6).\n",
        "\n",
        "Here is the students list:\n",
        "\n",
        "student_list_spring_2024=[rb0846,\n",
        "ac1964,\n",
        "hc0612,\n",
        "md0912,\n",
        "ad1198,\n",
        "md0894,\n",
        "md0825,\n",
        "vg0598,\n",
        "vg0433,\n",
        "mh1068,\n",
        "yj0173,\n",
        "pk0553,\n",
        "tk0411,\n",
        "srk0204,\n",
        "sk2922,\n",
        "sk2936,\n",
        "mk1302,\n",
        "mk1317,\n",
        "tk0412,\n",
        "vk0656,\n",
        "sm2985,\n",
        "mm2372,\n",
        "un0045,\n",
        "an0892,\n",
        "sn0913,\n",
        "gp0252,\n",
        "ap1484,\n",
        "mr1765,\n",
        "sr1385,\n",
        "sr1335,\n",
        "hs0665,\n",
        "ms2060,\n",
        "gt0217,\n",
        "nt0385,\n",
        "tv0186,\n",
        "sv1394,\n",
        "sv1752,\n",
        "sv1555,\n",
        "sy0594\n",
        "]\n"
      ]
    },
    {
      "cell_type": "code",
      "execution_count": null,
      "metadata": {
        "id": "3iGbmcOBhTwy",
        "colab": {
          "base_uri": "https://localhost:8080/"
        },
        "outputId": "dfa4f440-0486-4e07-ceb1-2dcbd857ac94"
      },
      "outputs": [
        {
          "output_type": "stream",
          "name": "stdout",
          "text": [
            "Group 1: ['sv1555', 'md0912', 'mm2372', 'tv0186', 'rb0846', 'hs0665']\n",
            "Group 2: ['nt0385', 'mk1317', 'sk2936', 'srk0204', 'vg0433', 'pk0553', 'sv1394']\n",
            "Group 3: ['ms2060', 'md0825', 'un0045', 'an0892', 'vg0598', 'yj0173']\n",
            "Group 4: ['mh1068', 'sr1335', 'mr1765', 'sv1752', 'sn0913', 'gp0252', 'ad1198', 'hc0612']\n",
            "Group 5: ['tk0412', 'gt0217', 'ap1484', 'md0894', 'mk1302', 'sr1385', 'sk2922']\n",
            "Group 6: ['ac1964', 'vk0656', 'sy0594', 'sm2985', 'tk0411']\n"
          ]
        }
      ],
      "source": [
        "# write your answer here\n",
        "\n",
        "import random\n",
        "\n",
        "\n",
        "#first we take fill the groups with min of 4 and max of 6 in random manner and if any id is left out we add it to some random grp.\n",
        "#As we have 39 ids but we can only group 36 ids with given conditions of max 6 groups and max 6 ids in a grp.\n",
        "# I have added an extra person in a group if left out in first logic\n",
        "student_list_spring_2024 = ['rb0846', 'ac1964', 'hc0612', 'md0912', 'ad1198', 'md0894', 'md0825', 'vg0598', 'vg0433', 'mh1068',\n",
        "                            'yj0173', 'pk0553', 'tk0411', 'srk0204', 'sk2922', 'sk2936', 'mk1302', 'mk1317', 'tk0412', 'vk0656',\n",
        "                            'sm2985', 'mm2372', 'un0045', 'an0892', 'sn0913', 'gp0252', 'ap1484', 'mr1765', 'sr1385', 'sr1335',\n",
        "                            'hs0665', 'ms2060', 'gt0217', 'nt0385', 'tv0186', 'sv1394', 'sv1752', 'sv1555', 'sy0594']\n",
        "\n",
        "random.shuffle(student_list_spring_2024)\n",
        "\n",
        "min = 4\n",
        "max = 6\n",
        "num_groups = 6\n",
        "groups = [[] for _ in range(num_groups)]\n",
        "\n",
        "for student in student_list_spring_2024:\n",
        "    assigned = False\n",
        "    for group in groups:\n",
        "        if len(group) < max-1:\n",
        "            group.append(student)\n",
        "            assigned = True\n",
        "            break\n",
        "    if not assigned:\n",
        "        groups[random.randint(0, num_groups - 1)].append(student)\n",
        "\n",
        "for i, group in enumerate(groups, start=1):\n",
        "    print(f\"Group {i}: {group}\")\n"
      ]
    },
    {
      "cell_type": "markdown",
      "metadata": {
        "id": "fmZ9vX20Qs3d"
      },
      "source": [
        "(16) Create a program that takes a positive integer 'n' as input and prints the count of even numbers from 1 to 'n'. Optimize the loop using the break statement."
      ]
    },
    {
      "cell_type": "code",
      "execution_count": null,
      "metadata": {
        "id": "W8Jw6sWMQs3d",
        "colab": {
          "base_uri": "https://localhost:8080/"
        },
        "outputId": "6739c723-ba74-4f7a-b54c-4244d736bba7"
      },
      "outputs": [
        {
          "output_type": "stream",
          "name": "stdout",
          "text": [
            "Enter a +ve num: 1\n",
            "Count of even num from 1 to 1: 0\n"
          ]
        }
      ],
      "source": [
        "# write your answer here\n",
        "\n",
        "\n",
        "# we run a loop from 1 to n and if the number is divisible by 2 then we increment the count by 1\n",
        "n = int(input(\"Enter a +ve num: \"))\n",
        "c = 0\n",
        "for i in range(1, n + 1):\n",
        "    if i % 2 == 0:\n",
        "        c = c + 1\n",
        "    if i > n:\n",
        "        break\n",
        "print(f\"Count of even num from 1 to {n}: {c}\")\n"
      ]
    },
    {
      "cell_type": "markdown",
      "metadata": {
        "id": "hvq4APMhQs3d"
      },
      "source": [
        "(17) Develop a Python function called 'count_vowels' that takes a string as input and returns the count of vowels (both lowercase and uppercase) present in the string, ignoring spaces and non-alphabetic characters."
      ]
    },
    {
      "cell_type": "code",
      "execution_count": null,
      "metadata": {
        "id": "ZnoxhSglQs3d",
        "colab": {
          "base_uri": "https://localhost:8080/"
        },
        "outputId": "9b655aad-0ff9-48ed-f04e-0f8c7ed851d9"
      },
      "outputs": [
        {
          "output_type": "stream",
          "name": "stdout",
          "text": [
            "Enter a string: vinod\n",
            "Count of vowels: 2\n"
          ]
        }
      ],
      "source": [
        "# write your answer here\n",
        "\n",
        "\n",
        "# I am looping through the given string and if any char in the vowels string we increase count by 1\n",
        "def count_vowels(input_string):\n",
        "    vowels = \"aeiouAEIOU\"\n",
        "    vowel_c = 0\n",
        "\n",
        "    for c in input_string:\n",
        "        if c.isalpha() and c in vowels:\n",
        "            vowel_c += 1\n",
        "\n",
        "    return vowel_c\n",
        "\n",
        "user_str = input(\"Enter a string: \")\n",
        "r = count_vowels(user_str)\n",
        "\n",
        "print(\"Count of vowels:\", r)\n"
      ]
    },
    {
      "cell_type": "markdown",
      "source": [
        "(18) Create a custom exception named ValueTooSmallError in Python. Write a program that takes user input for an age, and if the entered age is less than 18, raise the ValueTooSmallError with an appropriate error message."
      ],
      "metadata": {
        "id": "55FWoSJPVVM6"
      }
    },
    {
      "cell_type": "code",
      "source": [
        "# write your answer here\n",
        "\n",
        "class ValueTooSmallError(Exception):\n",
        "    pass\n",
        "\n",
        "def check_age(age):\n",
        "    if age < 18:\n",
        "        raise ValueTooSmallError(\"Age must be 18 or greater so not eligible.\")\n",
        "\n",
        "try:\n",
        "    user_age = int(input(\"Enter your age: \"))\n",
        "    check_age(user_age)\n",
        "    print(\"You are eligible.\")\n",
        "except ValueError:\n",
        "    print(\"Invalid input. Please enter a valid integer for age.\")\n",
        "except ValueTooSmallError as e:\n",
        "    print(f\"Error: {e}\")"
      ],
      "metadata": {
        "id": "hwtr1wZmVX5A",
        "colab": {
          "base_uri": "https://localhost:8080/"
        },
        "outputId": "11e17416-edff-4a43-83c1-be9713f5317d"
      },
      "execution_count": null,
      "outputs": [
        {
          "output_type": "stream",
          "name": "stdout",
          "text": [
            "Enter your age: 6\n",
            "Error: Age must be 18 or greater so not eligible.\n"
          ]
        }
      ]
    },
    {
      "cell_type": "markdown",
      "source": [
        "(19) Develop a script that reverses a given string without using built-in reverse functions."
      ],
      "metadata": {
        "id": "Q9ecagcaVazW"
      }
    },
    {
      "cell_type": "code",
      "source": [
        "# write your answer here\n",
        "\n",
        "#i am using slicing where we start from last char and look at the sting in reverse and append it to final str\n",
        "user_str = input(\"Enter a string: \")\n",
        "\n",
        "rev_str = \"\"\n",
        "for i in user_str[::-1]:\n",
        "    rev_str = rev_str + i\n",
        "\n",
        "print(\"Reversed string:\", rev_str)"
      ],
      "metadata": {
        "id": "gycgckoAVZjR",
        "colab": {
          "base_uri": "https://localhost:8080/"
        },
        "outputId": "3947ccab-1aac-4493-f6b1-2f03c1ffa958"
      },
      "execution_count": null,
      "outputs": [
        {
          "output_type": "stream",
          "name": "stdout",
          "text": [
            "Enter a string: vin\n",
            "Reversed string: niv\n"
          ]
        }
      ]
    },
    {
      "cell_type": "markdown",
      "source": [
        "(20) Implement a Python script to generate a random password of a specified length."
      ],
      "metadata": {
        "id": "ZFG6RibifMLu"
      }
    },
    {
      "cell_type": "code",
      "source": [
        "# write your answer here\n",
        "\n",
        "# i am considering that my password can have any char, digit or punctuation,\n",
        "#so first i am making a string with all the possible elements and pick random elements out of it till we reach required length\n",
        "import random\n",
        "import string\n",
        "def genranpswd(length):\n",
        "    chr = string.ascii_letters + string.digits + string.punctuation\n",
        "    pwd = ''.join(random.choice(chr) for z in range(length))\n",
        "    return pwd\n",
        "p_len = int(input(\"Enter the desired password length: \"))\n",
        "random_password = genranpswd(p_len)\n",
        "print(\"Random Password:\", random_password)"
      ],
      "metadata": {
        "id": "BFVrkEi9fNiD",
        "colab": {
          "base_uri": "https://localhost:8080/"
        },
        "outputId": "f53acbe3-c319-4653-97d8-ba9009afcde3"
      },
      "execution_count": null,
      "outputs": [
        {
          "output_type": "stream",
          "name": "stdout",
          "text": [
            "Enter the desired password length: 9\n",
            "Random Password: (=@ks;GFC\n"
          ]
        }
      ]
    },
    {
      "cell_type": "markdown",
      "source": [
        "# Try these questions:"
      ],
      "metadata": {
        "id": "6SmvS7nSfbj8"
      }
    },
    {
      "cell_type": "markdown",
      "source": [
        "(21) Define a base class called 'Vehicle' with attributes make and model. Create a derived class Car that inherits from Vehicle and has an additional attribute 'num_doors'. Demonstrate an example of creating an instance of the 'Car' class and accessing its attributes."
      ],
      "metadata": {
        "id": "cboAr5pEWUf5"
      }
    },
    {
      "cell_type": "code",
      "source": [
        "# write your answer here\n",
        "\n",
        "class Vehicle:\n",
        "    def __init__(self, make, model):\n",
        "        self.make = make\n",
        "        self.model = model\n",
        "\n",
        "class Car(Vehicle):\n",
        "    def __init__(self, make, model, n_doors):\n",
        "        super().__init__(make, model)\n",
        "        self.n_doors = n_doors\n",
        "\n",
        "car_inst = Car('dodge', 'challenger', 2)\n",
        "\n",
        "\n",
        "print(\"Make:\", car_inst.make)\n",
        "print(\"Model name:\", car_inst.model)\n",
        "print(\"num of Doors:\", car_inst.n_doors)"
      ],
      "metadata": {
        "id": "phs9gciMWWAW",
        "colab": {
          "base_uri": "https://localhost:8080/"
        },
        "outputId": "46d84549-6831-4134-9631-ba5165d4c4a4"
      },
      "execution_count": null,
      "outputs": [
        {
          "output_type": "stream",
          "name": "stdout",
          "text": [
            "Make: dodge\n",
            "Model name: challenger\n",
            "num of Doors: 2\n"
          ]
        }
      ]
    },
    {
      "cell_type": "markdown",
      "source": [
        "(22) Create a class called 'Shape' with a method calculate_area(). Implement two derived classes 'Circle' and 'Rectangle' that inherit from Shape and override the calculate_area() method. Demonstrate polymorphism by creating instances of both derived classes and calling the calculate_area() method."
      ],
      "metadata": {
        "id": "J8HHefNtePwd"
      }
    },
    {
      "cell_type": "code",
      "source": [
        "# write your answer here\n",
        "\n",
        "class Shape:\n",
        "    def calculate_area(self):\n",
        "        pass\n",
        "\n",
        "class Circle(Shape):\n",
        "    def __init__(self, r):\n",
        "        self.r = r\n",
        "\n",
        "    def calculate_area(self):\n",
        "        return 3.14 * self.r**2\n",
        "\n",
        "class Rectangle(Shape):\n",
        "    def __init__(self, len, wth):\n",
        "        self.len = len\n",
        "        self.wth = wth\n",
        "\n",
        "    def calculate_area(self):\n",
        "        return self.len * self.wth\n",
        "\n",
        "\n",
        "circle_instance = Circle(10)\n",
        "rectangle_instance = Rectangle(2, 5)\n",
        "\n",
        "print(\"Area of a Circle :\", circle_instance.calculate_area())\n",
        "print(\"Area of a Rectangle :\", rectangle_instance.calculate_area())\n",
        "\n",
        "\n",
        "\n",
        "\n"
      ],
      "metadata": {
        "id": "btnMmUZDeRhS",
        "colab": {
          "base_uri": "https://localhost:8080/"
        },
        "outputId": "75c11587-12b9-48dd-9066-662011a708be"
      },
      "execution_count": null,
      "outputs": [
        {
          "output_type": "stream",
          "name": "stdout",
          "text": [
            "Area of a Circle : 314.0\n",
            "Area of a Rectangle : 10\n"
          ]
        }
      ]
    },
    {
      "cell_type": "markdown",
      "source": [
        "(23) Write a Python program that prompts the user to enter two numbers and perform a division operation. Handle exceptions for both zero division and invalid input (non-numeric input). Display appropriate error messages for each type of exception and ensure the program does not crash due to these errors."
      ],
      "metadata": {
        "id": "z0oqEAlTeMUS"
      }
    },
    {
      "cell_type": "code",
      "source": [
        "# write your answer here\n",
        "\n",
        "try:\n",
        "\n",
        "    n1 = float(input(\"Enter number1: \"))\n",
        "    n1 = float(input(\"Enter number2: \"))\n",
        "\n",
        "    r = n1 / n1\n",
        "\n",
        "    print(\"division value:\", r)\n",
        "\n",
        "except ValueError:\n",
        "    print(\"Invalid  enter a values.\")\n",
        "except ZeroDivisionError:\n",
        "    print(\"Error Division by zero not possible\")\n",
        "except Exception as e:\n",
        "    print(f\"An error occurred: {e}\")"
      ],
      "metadata": {
        "id": "yjdc1zM1eMAs",
        "colab": {
          "base_uri": "https://localhost:8080/"
        },
        "outputId": "91b63372-b9e3-492e-f3c5-5be6761942a9"
      },
      "execution_count": null,
      "outputs": [
        {
          "output_type": "stream",
          "name": "stdout",
          "text": [
            "Enter number1: 3\n",
            "Enter number2: 7\n",
            "division value: 1.0\n"
          ]
        }
      ]
    },
    {
      "cell_type": "markdown",
      "source": [
        "# Mandatory Question"
      ],
      "metadata": {
        "id": "sZOhks1dXWEe"
      }
    },
    {
      "cell_type": "markdown",
      "source": [
        "**Important:**\n",
        "Reflecting on the first three lectures and the exercises you've completed, please provide feedback on your learning experience. Share your thoughts on whether the material covered was clear, the exercises were helpful, and if you feel more confident in applying Python programming concepts. Additionally, mention any specific areas where you would like more clarification or topics you would like to explore further in future lectures. Your feedback is valuable in shaping the course for an effective learning journey."
      ],
      "metadata": {
        "id": "eqmHVEwaWhbV"
      }
    },
    {
      "cell_type": "markdown",
      "source": [
        "Write your response here."
      ],
      "metadata": {
        "id": "HlpXOT9wXQAd"
      }
    },
    {
      "cell_type": "code",
      "source": [
        "#Certainly, all three lectures were excellent and significantly contributed to understanding and solving the well-designed inclass exercise.\n",
        "#Completing the in-class exercises has boosted my confidence in mastering the fundamentals of Python."
      ],
      "metadata": {
        "id": "Dq2aOZU7XIke"
      },
      "execution_count": null,
      "outputs": []
    }
  ],
  "metadata": {
    "colab": {
      "provenance": []
    },
    "kernelspec": {
      "display_name": "Python 3 (ipykernel)",
      "language": "python",
      "name": "python3"
    },
    "language_info": {
      "codemirror_mode": {
        "name": "ipython",
        "version": 3
      },
      "file_extension": ".py",
      "mimetype": "text/x-python",
      "name": "python",
      "nbconvert_exporter": "python",
      "pygments_lexer": "ipython3",
      "version": "3.9.12"
    }
  },
  "nbformat": 4,
  "nbformat_minor": 0
}